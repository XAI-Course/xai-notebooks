{
 "cells": [
  {
   "cell_type": "code",
   "execution_count": 23,
   "metadata": {
    "collapsed": true
   },
   "outputs": [],
   "source": [
    "import numpy as np\n",
    "import torch\n",
    "from torch import nn\n",
    "from torch.utils.data import Dataset\n",
    "import matplotlib.pyplot as plt\n",
    "import os\n",
    "from utility.ffqd_mnist import FFQD_Dataset, label_for_id\n",
    "from torch.utils.data import DataLoader\n",
    "import torchvision.transforms as T\n",
    "\n",
    "def image_and_pad (x):\n",
    "    return nn.functional.pad(torch.Tensor(x).view(1,28,28),(2,2,2,2))\n",
    "\n",
    "training_data = FFQD_Dataset('ffqd_mnist/', train=True, transform=image_and_pad)\n",
    "train_dataloader = DataLoader(training_data, batch_size=64)\n",
    "\n",
    "test_data = FFQD_Dataset('ffqd_mnist/', transform=image_and_pad)\n",
    "test_dataloader = DataLoader(test_data, batch_size=64)\n",
    "device = 'cpu'"
   ]
  },
  {
   "cell_type": "code",
   "execution_count": 24,
   "outputs": [
    {
     "data": {
      "text/plain": "torch.Size([1, 32, 32])"
     },
     "execution_count": 24,
     "metadata": {},
     "output_type": "execute_result"
    }
   ],
   "source": [
    "training_data[1][0].shape"
   ],
   "metadata": {
    "collapsed": false,
    "pycharm": {
     "name": "#%%\n"
    }
   }
  },
  {
   "cell_type": "code",
   "execution_count": null,
   "outputs": [],
   "source": [],
   "metadata": {
    "collapsed": false,
    "pycharm": {
     "name": "#%%\n"
    }
   }
  },
  {
   "cell_type": "code",
   "execution_count": 18,
   "outputs": [],
   "source": [
    "# by: https://blog.paperspace.com/writing-lenet5-from-scratch-in-python/\n",
    "class LeNet(torch.nn.Module):\n",
    "    def __init__(self, output_size=10):\n",
    "        super(LeNet, self).__init__()\n",
    "        self.layer1 = nn.Sequential(\n",
    "            nn.Conv2d(1, 6, kernel_size=5, stride=1, padding=0),\n",
    "            nn.ReLU(),\n",
    "            nn.MaxPool2d(kernel_size = 2, stride = 2)\n",
    "        )\n",
    "        self.layer2 = nn.Sequential(\n",
    "            nn.Conv2d(6, 16, kernel_size=5, stride=1, padding=0),\n",
    "            nn.ReLU(),\n",
    "            nn.MaxPool2d(kernel_size = 2, stride = 2)\n",
    "        )\n",
    "        # see: https://madebyollin.github.io/convnet-calculator/\n",
    "\n",
    "        self.fc1 = nn.Linear(400, 120)\n",
    "        self.relu = nn.ReLU()\n",
    "        self.fc2 = nn.Linear(120, 84)\n",
    "        self.relu1 = nn.ReLU()\n",
    "        self.fc3 = nn.Linear(84, output_size)\n",
    "\n",
    "\n",
    "    def forward(self, x):\n",
    "        out = self.layer1(x)\n",
    "        out = self.layer2(out)\n",
    "        out = out.reshape(out.size(0), -1)\n",
    "        out = self.fc1(out)\n",
    "        out = self.relu(out)\n",
    "        out = self.fc2(out)\n",
    "        out = self.relu1(out)\n",
    "        out = self.fc3(out)\n",
    "        return out\n",
    "        # return y"
   ],
   "metadata": {
    "collapsed": false,
    "pycharm": {
     "name": "#%%\n"
    }
   }
  },
  {
   "cell_type": "code",
   "execution_count": 19,
   "outputs": [],
   "source": [
    "model = LeNet()\n",
    "optimizer = torch.optim.SGD(model.parameters(), lr=.01)\n",
    "criterion = torch.nn.CrossEntropyLoss()\n",
    "\n",
    "def reset_model():\n",
    "    global model, optimizer\n",
    "    model = LeNet()\n",
    "    optimizer = torch.optim.SGD(model.parameters(), lr=.01)\n"
   ],
   "metadata": {
    "collapsed": false,
    "pycharm": {
     "name": "#%%\n"
    }
   }
  },
  {
   "cell_type": "code",
   "execution_count": 26,
   "outputs": [],
   "source": [
    "def train_one_epoch(dataloader, model, loss_fn, optimizer):\n",
    "    model.train()\n",
    "    for batch_id, (X,y) in enumerate(dataloader):\n",
    "        X, y = X.to(device), y.to(device)\n",
    "\n",
    "        # print(X.shape)\n",
    "        # calculate loss\n",
    "        y_pred = model(X)\n",
    "        loss = loss_fn(y_pred, y)\n",
    "\n",
    "\n",
    "        # print( y_pred.dtype, y_pred.shape)\n",
    "        # print(loss)\n",
    "\n",
    "        # backprop loss\n",
    "        optimizer.zero_grad()\n",
    "        loss.backward()\n",
    "        optimizer.step()\n",
    "\n",
    "        if batch_id % 100 == 0:\n",
    "            print(f\"({batch_id}) loss: {loss:>7}\")\n"
   ],
   "metadata": {
    "collapsed": false,
    "pycharm": {
     "name": "#%%\n"
    }
   }
  },
  {
   "cell_type": "code",
   "execution_count": 15,
   "outputs": [],
   "source": [
    "def test_one_epoch(dataloader, model, loss_fn):\n",
    "    size = len(dataloader.dataset)\n",
    "    num_batches = len(dataloader)\n",
    "    model.eval()\n",
    "    test_loss, correct = 0, 0\n",
    "    with torch.no_grad():\n",
    "        for X,y in dataloader:\n",
    "            X, y = X.to(device), y.to(device)\n",
    "            pred_y = model(X)\n",
    "            test_loss += loss_fn(pred_y, y).item()\n",
    "            correct += (pred_y.argmax(1) == y.argmax(1)).type(torch.float).sum().item()\n",
    "    test_loss /= num_batches\n",
    "    correct /= size\n",
    "    return test_loss, correct\n"
   ],
   "metadata": {
    "collapsed": false,
    "pycharm": {
     "name": "#%%\n"
    }
   }
  },
  {
   "cell_type": "code",
   "execution_count": 77,
   "outputs": [
    {
     "name": "stdout",
     "output_type": "stream",
     "text": [
      "(0) loss: 2.306349605321884\n",
      "(100) loss: 2.307061839848757\n",
      "(200) loss: 2.2914072573184967\n",
      "(300) loss: 2.289260011166334\n",
      "(400) loss: 2.2974664717912674\n",
      "(500) loss: 2.2862329818308353\n",
      "(600) loss: 2.2898735851049423\n",
      "(700) loss: 2.261129751801491\n",
      "(800) loss: 2.235496185719967\n",
      "(2.1858237989874945, 0.3780181818181818)\n",
      "(0) loss: 2.199608188122511\n",
      "(100) loss: 1.875803366303444\n",
      "(200) loss: 1.2941409200429916\n",
      "(300) loss: 1.097106131608598\n",
      "(400) loss: 1.052986490423791\n",
      "(500) loss: 0.9744806111266371\n",
      "(600) loss: 1.0448555076727644\n",
      "(700) loss: 0.7014282086747698\n",
      "(800) loss: 0.7946929682511836\n",
      "(0.9547667382943039, 0.6829454545454545)\n",
      "(0) loss: 1.050978501138161\n",
      "(100) loss: 0.7080874305029283\n",
      "(200) loss: 0.7658197674027178\n",
      "(300) loss: 0.5943280484789284\n",
      "(400) loss: 0.8123458261106862\n",
      "(500) loss: 0.7484523208440805\n",
      "(600) loss: 0.7270231695874827\n",
      "(700) loss: 0.49454694143059896\n",
      "(800) loss: 0.6511821897729533\n",
      "(0.8162083060507185, 0.7350909090909091)\n",
      "(0) loss: 0.9708337488700636\n",
      "(100) loss: 0.5022326039834297\n",
      "(200) loss: 0.6558312561755884\n",
      "(300) loss: 0.4325265273291734\n",
      "(400) loss: 0.6663371059948986\n",
      "(500) loss: 0.5567411230222206\n",
      "(600) loss: 0.5384961882955395\n",
      "(700) loss: 0.39218756364061846\n",
      "(800) loss: 0.5688427684253838\n",
      "(0.7245859733601732, 0.7662727272727273)\n",
      "(0) loss: 0.9045713513933151\n",
      "(100) loss: 0.4173369097406976\n",
      "(200) loss: 0.5395030126455822\n",
      "(300) loss: 0.3474051999874064\n",
      "(400) loss: 0.5514218109856301\n",
      "(500) loss: 0.4590776997138164\n",
      "(600) loss: 0.4323701995090232\n",
      "(700) loss: 0.33499609001773933\n",
      "(800) loss: 0.4876520538746263\n",
      "(0.6115440974599301, 0.8054181818181818)\n",
      "(0) loss: 0.7925802872778149\n",
      "(100) loss: 0.3780013009745744\n",
      "(200) loss: 0.4763593817697256\n",
      "(300) loss: 0.30256580189598026\n",
      "(400) loss: 0.484773717194912\n",
      "(500) loss: 0.3982175958408334\n",
      "(600) loss: 0.36361151572782546\n",
      "(700) loss: 0.306692944279348\n",
      "(800) loss: 0.43855659356449905\n",
      "(0.5253703184792463, 0.8344363636363636)\n",
      "(0) loss: 0.6943202702259441\n",
      "(100) loss: 0.358777500803626\n",
      "(200) loss: 0.43955829501283006\n",
      "(300) loss: 0.27566695913264994\n",
      "(400) loss: 0.44040877824954805\n",
      "(500) loss: 0.3525964043683416\n",
      "(600) loss: 0.3188433533250645\n",
      "(700) loss: 0.29138828185205057\n",
      "(800) loss: 0.3923840926072444\n",
      "(0.483530046764372, 0.8479272727272728)\n",
      "(0) loss: 0.634893184496832\n",
      "(100) loss: 0.33374244871629344\n",
      "(200) loss: 0.4187423539278825\n",
      "(300) loss: 0.24793103531192173\n",
      "(400) loss: 0.4259461557667237\n",
      "(500) loss: 0.3196962876818361\n",
      "(600) loss: 0.2929920845926972\n",
      "(700) loss: 0.2883943765455115\n",
      "(800) loss: 0.37536826218001806\n",
      "(0.44426973952244875, 0.8616909090909091)\n",
      "(0) loss: 0.579824197599919\n",
      "(100) loss: 0.30012605628871825\n",
      "(200) loss: 0.3954587172252104\n",
      "(300) loss: 0.23339185570875998\n",
      "(400) loss: 0.43157024371248554\n",
      "(500) loss: 0.2932356767514648\n",
      "(600) loss: 0.2723233211963816\n",
      "(700) loss: 0.2693732104339688\n",
      "(800) loss: 0.3658101575938417\n",
      "(0.4195121728604402, 0.8697454545454546)\n",
      "(0) loss: 0.5513956335880721\n",
      "(100) loss: 0.27388400649851974\n",
      "(200) loss: 0.382918723091052\n",
      "(300) loss: 0.21974070904616383\n",
      "(400) loss: 0.4244922660491284\n",
      "(500) loss: 0.26973401485292925\n",
      "(600) loss: 0.2617359369069163\n",
      "(700) loss: 0.2559795148184776\n",
      "(800) loss: 0.3506799628621593\n",
      "(0.3908651625569695, 0.8780909090909091)\n"
     ]
    }
   ],
   "source": [
    "reset_model()\n",
    "# old_weights = torch.Tensor(np.array(model.get_parameter(\"fc.weight\").detach().numpy())) # copy old weights\n",
    "# old_weights = model.get_parameter(\"mlp_stack.0.weight\").clone().detach()\n",
    "for i in range(10):\n",
    "    train_one_epoch(train_dataloader, model, criterion, optimizer)\n",
    "    print(test_one_epoch(test_dataloader, model, criterion))"
   ],
   "metadata": {
    "collapsed": false,
    "pycharm": {
     "name": "#%%\n"
    }
   }
  },
  {
   "cell_type": "code",
   "execution_count": 41,
   "outputs": [
    {
     "name": "stdout",
     "output_type": "stream",
     "text": [
      "layer1.0.weight torch.Size([6, 1, 5, 5])\n",
      "layer1.0.bias torch.Size([6])\n",
      "layer2.0.weight torch.Size([16, 6, 5, 5])\n",
      "layer2.0.bias torch.Size([16])\n",
      "fc1.weight torch.Size([120, 400])\n",
      "fc1.bias torch.Size([120])\n",
      "fc2.weight torch.Size([84, 120])\n",
      "fc2.bias torch.Size([84])\n",
      "fc3.weight torch.Size([10, 84])\n",
      "fc3.bias torch.Size([10])\n"
     ]
    }
   ],
   "source": [
    "for name, par in model.named_parameters():\n",
    "    print(name, par.shape)"
   ],
   "metadata": {
    "collapsed": false,
    "pycharm": {
     "name": "#%%\n"
    }
   }
  },
  {
   "cell_type": "code",
   "execution_count": 79,
   "outputs": [
    {
     "data": {
      "text/plain": "<Figure size 864x864 with 100 Axes>",
      "image/png": "[encoded data removed]"
     },
     "metadata": {
      "needs_background": "light"
     },
     "output_type": "display_data"
    }
   ],
   "source": [
    "l0_weights = model.get_parameter('layer2.0.weight').detach()\n",
    "# l0_weights_diff = l0_weights- old_weights\n",
    "f, axs = plt.subplots(10,10,figsize=(12,12))\n",
    "axs = axs.flatten()\n",
    "for i in range(16):\n",
    "    for ii in range(6):\n",
    "        axs[i*6+ii].imshow(l0_weights[i,ii], cmap=\"gray\")\n",
    "        axs[i*6+ii].axis('off')"
   ],
   "metadata": {
    "collapsed": false,
    "pycharm": {
     "name": "#%%\n"
    }
   }
  },
  {
   "cell_type": "code",
   "execution_count": 80,
   "outputs": [
    {
     "name": "stdout",
     "output_type": "stream",
     "text": [
      "torch.Size([1, 1, 32, 32])\n"
     ]
    },
    {
     "data": {
      "text/plain": "<Figure size 432x432 with 2 Axes>",
      "image/png": "[encoded data removed]"
     },
     "metadata": {
      "needs_background": "light"
     },
     "output_type": "display_data"
    }
   ],
   "source": [
    "test_batch, test_batch_label = next(iter(test_dataloader))\n",
    "\n",
    "image = test_batch[23].unsqueeze(0)\n",
    "label = test_batch_label[23].unsqueeze(0)\n",
    "\n",
    "fig, axs = plt.subplots(1,2, figsize=(6,6))\n",
    "axs= axs.flatten()\n",
    "\n",
    "axs[0].imshow(image.view(32,32), cmap='gray')\n",
    "model.eval()\n",
    "x_in = image.clone().requires_grad_()\n",
    "print(x_in.shape)\n",
    "model.zero_grad()\n",
    "pred = model(x_in)\n",
    "# loss = criterion(pred, label)\n",
    "# loss.backward()\n",
    "\n",
    "pred_index = pred.argmax()\n",
    "\n",
    "pred_max = pred[0, pred_index]\n",
    "# print(pred_max)\n",
    "pred_max.backward()\n",
    "\n",
    "# # # saliency = nn.ReLU()(x_in.grad)\n",
    "saliency = x_in.grad.detach().abs()[0]\n",
    "# # # print(saliency.shape, saliency)\n",
    "saliency = saliency.reshape(32, 32)\n",
    "# #\n",
    "axs[1].imshow(saliency, cmap=\"hot\")\n",
    "\n",
    "\n",
    "plt.show()"
   ],
   "metadata": {
    "collapsed": false,
    "pycharm": {
     "name": "#%%\n"
    }
   }
  },
  {
   "cell_type": "code",
   "execution_count": 90,
   "outputs": [
    {
     "name": "stdout",
     "output_type": "stream",
     "text": [
      "ground truth: 3 / car\n",
      "predcition: 3 / car\n",
      "attacked prediction: 8 / mustache\n"
     ]
    },
    {
     "data": {
      "text/plain": "<Figure size 432x432 with 4 Axes>",
      "image/png": "[encoded data removed]"
     },
     "metadata": {
      "needs_background": "light"
     },
     "output_type": "display_data"
    }
   ],
   "source": [
    "test_batch, test_batch_label = next(iter(test_dataloader))\n",
    "\n",
    "item_id = 23 # 23, 55(rob), 34(rob)\n",
    "\n",
    "image = test_batch[item_id].unsqueeze(0)\n",
    "print(f\"ground truth: {np.argmax(test_batch_label[item_id])} / {label_for_id(np.argmax(test_batch_label[item_id]))}\")\n",
    "\n",
    "fig, axs = plt.subplots(2,2, figsize=(6,6))\n",
    "axs= axs.flatten()\n",
    "\n",
    "axs[0].imshow(image.view(32,32), cmap='gray')\n",
    "\n",
    "x_in = image.clone().requires_grad_()\n",
    "model.zero_grad()\n",
    "pred = model(x_in)\n",
    "pred_index = pred.argmax()\n",
    "print(f\"predcition: {pred_index.item()} / {label_for_id(pred_index.item())}\")\n",
    "pred_max = pred[0, pred_index]\n",
    "# print(pred_max)\n",
    "pred_max.backward()\n",
    "\n",
    "\n",
    "saliency = x_in.grad.detach().abs()[0]\n",
    "# print(saliency.shape, saliency)\n",
    "saliency = saliency.reshape(32, 32)\n",
    "axs[1].imshow(saliency, cmap=\"hot\")\n",
    "\n",
    "model.zero_grad()\n",
    "pred = model(x_in)\n",
    "pred_attack = pred[0, 5]\n",
    "pred_attack.backward()\n",
    "# print(x_in.grad)\n",
    "x_attack = 0.3 *image + 0.1*(x_in.grad.detach()[0].sign()) #nn.ReLU()\n",
    "\n",
    "axs[2].imshow(x_attack.view(32,32), cmap='gray')\n",
    "pred = model(x_attack)\n",
    "pred_index = pred.argmax()\n",
    "print(f'attacked prediction: {pred_index.item()} / {label_for_id(pred_index.item())}')\n",
    "\n",
    "plt.show()\n"
   ],
   "metadata": {
    "collapsed": false,
    "pycharm": {
     "name": "#%%\n"
    }
   }
  }
 ],
 "metadata": {
  "kernelspec": {
   "display_name": "Python 3",
   "language": "python",
   "name": "python3"
  },
  "language_info": {
   "codemirror_mode": {
    "name": "ipython",
    "version": 2
   },
   "file_extension": ".py",
   "mimetype": "text/x-python",
   "name": "python",
   "nbconvert_exporter": "python",
   "pygments_lexer": "ipython2",
   "version": "2.7.6"
  }
 },
 "nbformat": 4,
 "nbformat_minor": 0
}