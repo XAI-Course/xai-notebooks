{
 "cells": [
  {
   "cell_type": "code",
   "execution_count": 27,
   "metadata": {
    "collapsed": true
   },
   "outputs": [],
   "source": [
    "from torchvision.transforms import ToTensor\n",
    "from torchvision import datasets\n",
    "import numpy as np\n",
    "import torch\n",
    "from torch import nn\n",
    "from torch.utils.data import Dataset\n",
    "import matplotlib.pyplot as plt\n",
    "import os\n",
    "from utility.ffqd_mnist import FFQD_Dataset, label_for_id\n",
    "from torch.utils.data import DataLoader\n",
    "import torchvision.transforms as T\n",
    "\n",
    "to_ten = ToTensor()\n",
    "def image_and_pad (x):\n",
    "    return nn.functional.pad(to_ten(x).view(1,28,28),(2,2,2,2))\n",
    "\n",
    "# Download training data from open datasets.\n",
    "training_data = datasets.FashionMNIST(\n",
    "    root=\"data/fashion\",\n",
    "    train=True,\n",
    "    download=True,\n",
    "    transform=image_and_pad,\n",
    ")\n",
    "train_dataloader = DataLoader(training_data, batch_size=64)\n",
    "\n",
    "# Download test data from open datasets.\n",
    "test_data = datasets.FashionMNIST(\n",
    "    root=\"data/fashion\",\n",
    "    train=False,\n",
    "    download=True,\n",
    "    transform=image_and_pad,\n",
    ")\n",
    "test_dataloader = DataLoader(test_data, batch_size=64)\n",
    "\n",
    "classes = [\n",
    "    \"T-shirt/top\",\n",
    "    \"Trouser\",\n",
    "    \"Pullover\",\n",
    "    \"Dress\",\n",
    "    \"Coat\",\n",
    "    \"Sandal\",\n",
    "    \"Shirt\",\n",
    "    \"Sneaker\",\n",
    "    \"Bag\",\n",
    "    \"Ankle boot\",\n",
    "]\n",
    "\n",
    "device = 'cpu'"
   ]
  },
  {
   "cell_type": "code",
   "execution_count": 11,
   "outputs": [
    {
     "data": {
      "text/plain": "torch.Size([1, 32, 32])"
     },
     "execution_count": 11,
     "metadata": {},
     "output_type": "execute_result"
    }
   ],
   "source": [
    "training_data[1][0].shape"
   ],
   "metadata": {
    "collapsed": false,
    "pycharm": {
     "name": "#%%\n"
    }
   }
  },
  {
   "cell_type": "code",
   "execution_count": 13,
   "outputs": [],
   "source": [
    "# by: https://blog.paperspace.com/writing-lenet5-from-scratch-in-python/\n",
    "class LeNet(torch.nn.Module):\n",
    "    def __init__(self, output_size=10):\n",
    "        super(LeNet, self).__init__()\n",
    "        self.layer1 = nn.Sequential(\n",
    "            nn.Conv2d(1, 6, kernel_size=5, stride=1, padding=0),\n",
    "            nn.ReLU(),\n",
    "            nn.MaxPool2d(kernel_size = 2, stride = 2)\n",
    "        )\n",
    "        self.layer2 = nn.Sequential(\n",
    "            nn.Conv2d(6, 16, kernel_size=5, stride=1, padding=0),\n",
    "            nn.ReLU(),\n",
    "            nn.MaxPool2d(kernel_size = 2, stride = 2)\n",
    "        )\n",
    "        # see: https://madebyollin.github.io/convnet-calculator/\n",
    "\n",
    "        self.fc1 = nn.Linear(400, 120)\n",
    "        self.relu = nn.ReLU()\n",
    "        self.fc2 = nn.Linear(120, 84)\n",
    "        self.relu1 = nn.ReLU()\n",
    "        self.fc3 = nn.Linear(84, output_size)\n",
    "\n",
    "\n",
    "    def forward(self, x):\n",
    "        out = self.layer1(x)\n",
    "        out = self.layer2(out)\n",
    "        out = out.reshape(out.size(0), -1)\n",
    "        out = self.fc1(out)\n",
    "        out = self.relu(out)\n",
    "        out = self.fc2(out)\n",
    "        out = self.relu1(out)\n",
    "        out = self.fc3(out)\n",
    "        return out\n",
    "        # return y"
   ],
   "metadata": {
    "collapsed": false,
    "pycharm": {
     "name": "#%%\n"
    }
   }
  },
  {
   "cell_type": "code",
   "execution_count": 14,
   "outputs": [],
   "source": [
    "model = LeNet()\n",
    "optimizer = torch.optim.SGD(model.parameters(), lr=.01)\n",
    "criterion = torch.nn.CrossEntropyLoss()\n",
    "\n",
    "def reset_model():\n",
    "    global model, optimizer\n",
    "    model = LeNet()\n",
    "    optimizer = torch.optim.SGD(model.parameters(), lr=.01)\n"
   ],
   "metadata": {
    "collapsed": false,
    "pycharm": {
     "name": "#%%\n"
    }
   }
  },
  {
   "cell_type": "code",
   "execution_count": 22,
   "outputs": [],
   "source": [
    "def train_one_epoch(dataloader, model, loss_fn, optimizer):\n",
    "    model.train()\n",
    "    for batch_id, (X,y) in enumerate(dataloader):\n",
    "        X, y = X.to(device), y.to(device)\n",
    "\n",
    "        # print(X.shape)\n",
    "        # calculate loss\n",
    "        y_pred = model(X)\n",
    "        loss = loss_fn(y_pred, y)\n",
    "\n",
    "\n",
    "        # print( y_pred.dtype, y_pred.shape)\n",
    "        # print(loss)\n",
    "\n",
    "        # backprop loss\n",
    "        optimizer.zero_grad()\n",
    "        loss.backward()\n",
    "        optimizer.step()\n",
    "\n",
    "        if batch_id % 100 == 0:\n",
    "            print(f\"({batch_id}) loss: {loss:>7}\")\n",
    "\n"
   ],
   "metadata": {
    "collapsed": false,
    "pycharm": {
     "name": "#%%\n"
    }
   }
  },
  {
   "cell_type": "code",
   "execution_count": 23,
   "outputs": [],
   "source": [
    "def test_one_epoch(dataloader, model, loss_fn):\n",
    "    size = len(dataloader.dataset)\n",
    "    num_batches = len(dataloader)\n",
    "    model.eval()\n",
    "    test_loss, correct = 0, 0\n",
    "    with torch.no_grad():\n",
    "        for X,y in dataloader:\n",
    "            X, y = X.to(device), y.to(device)\n",
    "            pred_y = model(X)\n",
    "            test_loss += loss_fn(pred_y, y).item()\n",
    "            correct += (pred_y.argmax(1) == y).type(torch.float).sum().item()\n",
    "    test_loss /= num_batches\n",
    "    correct /= size\n",
    "    return test_loss, correct\n"
   ],
   "metadata": {
    "collapsed": false,
    "pycharm": {
     "name": "#%%\n"
    }
   }
  },
  {
   "cell_type": "code",
   "execution_count": 26,
   "outputs": [
    {
     "name": "stdout",
     "output_type": "stream",
     "text": [
      "(0) loss: 2.3192996978759766\n",
      "(100) loss: 2.3099215030670166\n",
      "(200) loss: 2.3040497303009033\n",
      "(300) loss: 2.297100305557251\n",
      "(400) loss: 2.2883822917938232\n",
      "(500) loss: 2.2943615913391113\n",
      "(600) loss: 2.283376932144165\n",
      "(700) loss: 2.264726161956787\n",
      "(800) loss: 2.2223854064941406\n",
      "(900) loss: 1.8806426525115967\n",
      "loss/acc: (1.5585138957211926, 0.4341)\n",
      "(0) loss: 1.6625465154647827\n",
      "(100) loss: 1.1531416177749634\n",
      "(200) loss: 0.866998016834259\n",
      "(300) loss: 0.9724318981170654\n",
      "(400) loss: 0.8155137300491333\n",
      "(500) loss: 0.8076281547546387\n",
      "(600) loss: 0.8058091402053833\n",
      "(700) loss: 0.7240474820137024\n",
      "(800) loss: 0.7090227603912354\n",
      "(900) loss: 0.7755886912345886\n",
      "loss/acc: (0.7314060869490265, 0.7143)\n",
      "(0) loss: 0.6962954998016357\n",
      "(100) loss: 0.7158951759338379\n",
      "(200) loss: 0.4999156892299652\n",
      "(300) loss: 0.7586424946784973\n",
      "(400) loss: 0.6571452617645264\n",
      "(500) loss: 0.680047333240509\n",
      "(600) loss: 0.6848768591880798\n",
      "(700) loss: 0.5891278386116028\n",
      "(800) loss: 0.6419174075126648\n",
      "(900) loss: 0.6537161469459534\n",
      "loss/acc: (0.6475122622243917, 0.7581)\n",
      "(0) loss: 0.5965092182159424\n",
      "(100) loss: 0.641166090965271\n",
      "(200) loss: 0.432845801115036\n",
      "(300) loss: 0.6842640042304993\n",
      "(400) loss: 0.5938520431518555\n",
      "(500) loss: 0.6152318120002747\n",
      "(600) loss: 0.6103147864341736\n",
      "(700) loss: 0.5424444675445557\n",
      "(800) loss: 0.6036545634269714\n",
      "(900) loss: 0.5736249089241028\n",
      "loss/acc: (0.586916362404064, 0.7863)\n",
      "(0) loss: 0.54032963514328\n",
      "(100) loss: 0.5910818576812744\n",
      "(200) loss: 0.38711312413215637\n",
      "(300) loss: 0.621105968952179\n",
      "(400) loss: 0.5523267984390259\n",
      "(500) loss: 0.5675053000450134\n",
      "(600) loss: 0.550147294998169\n",
      "(700) loss: 0.5251919031143188\n",
      "(800) loss: 0.6041572690010071\n",
      "(900) loss: 0.5091615319252014\n",
      "loss/acc: (0.5396565600375461, 0.8019)\n"
     ]
    }
   ],
   "source": [
    "reset_model()\n",
    "# old_weights = torch.Tensor(np.array(model.get_parameter(\"fc.weight\").detach().numpy())) # copy old weights\n",
    "# old_weights = model.get_parameter(\"mlp_stack.0.weight\").clone().detach()\n",
    "for i in range(5):\n",
    "    train_one_epoch(train_dataloader, model, criterion, optimizer)\n",
    "    print(f\"loss/acc: {test_one_epoch(test_dataloader, model, criterion)}\")"
   ],
   "metadata": {
    "collapsed": false,
    "pycharm": {
     "name": "#%%\n"
    }
   }
  },
  {
   "cell_type": "code",
   "execution_count": 25,
   "outputs": [
    {
     "name": "stdout",
     "output_type": "stream",
     "text": [
      "layer1.0.weight torch.Size([6, 1, 5, 5])\n",
      "layer1.0.bias torch.Size([6])\n",
      "layer2.0.weight torch.Size([16, 6, 5, 5])\n",
      "layer2.0.bias torch.Size([16])\n",
      "fc1.weight torch.Size([120, 400])\n",
      "fc1.bias torch.Size([120])\n",
      "fc2.weight torch.Size([84, 120])\n",
      "fc2.bias torch.Size([84])\n",
      "fc3.weight torch.Size([10, 84])\n",
      "fc3.bias torch.Size([10])\n"
     ]
    }
   ],
   "source": [
    "for name, par in model.named_parameters():\n",
    "    print(name, par.shape)"
   ],
   "metadata": {
    "collapsed": false,
    "pycharm": {
     "name": "#%%\n"
    }
   }
  },
  {
   "cell_type": "code",
   "execution_count": 28,
   "outputs": [
    {
     "data": {
      "text/plain": "<Figure size 864x864 with 100 Axes>",
      "image/png": "[encoded data removed]"
     },
     "metadata": {
      "needs_background": "light"
     },
     "output_type": "display_data"
    }
   ],
   "source": [
    "l0_weights = model.get_parameter('layer2.0.weight').detach()\n",
    "# l0_weights_diff = l0_weights- old_weights\n",
    "f, axs = plt.subplots(10,10,figsize=(12,12))\n",
    "axs = axs.flatten()\n",
    "for i in range(16):\n",
    "    for ii in range(6):\n",
    "        axs[i*6+ii].imshow(l0_weights[i,ii], cmap=\"gray\")\n",
    "        axs[i*6+ii].axis('off')"
   ],
   "metadata": {
    "collapsed": false,
    "pycharm": {
     "name": "#%%\n"
    }
   }
  },
  {
   "cell_type": "code",
   "execution_count": 32,
   "outputs": [
    {
     "name": "stdout",
     "output_type": "stream",
     "text": [
      "torch.Size([1, 1, 32, 32])\n",
      "tensor(3) Dress\n"
     ]
    },
    {
     "data": {
      "text/plain": "<Figure size 432x432 with 2 Axes>",
      "image/png": "[encoded data removed]"
     },
     "metadata": {
      "needs_background": "light"
     },
     "output_type": "display_data"
    }
   ],
   "source": [
    "test_batch, test_batch_label = next(iter(test_dataloader))\n",
    "\n",
    "img_index = 29\n",
    "image = test_batch[img_index].unsqueeze(0)\n",
    "label = test_batch_label[img_index].unsqueeze(0)\n",
    "\n",
    "fig, axs = plt.subplots(1,2, figsize=(6,6))\n",
    "axs= axs.flatten()\n",
    "\n",
    "axs[0].imshow(image.view(32,32), cmap='gray')\n",
    "model.eval()\n",
    "x_in = image.clone().requires_grad_()\n",
    "print(x_in.shape)\n",
    "model.zero_grad()\n",
    "pred = model(x_in)\n",
    "# loss = criterion(pred, label)\n",
    "# loss.backward()\n",
    "\n",
    "pred_index = pred.argmax()\n",
    "\n",
    "pred_max = pred[0, pred_index]\n",
    "print(pred_index, classes[pred_index.item()])\n",
    "pred_max.backward()\n",
    "\n",
    "# # # saliency = nn.ReLU()(x_in.grad)\n",
    "saliency = x_in.grad.detach().abs()[0]\n",
    "# # # print(saliency.shape, saliency)\n",
    "saliency = saliency.reshape(32, 32)\n",
    "# #\n",
    "axs[1].imshow(saliency, cmap=\"hot\")\n",
    "\n",
    "\n",
    "plt.show()"
   ],
   "metadata": {
    "collapsed": false,
    "pycharm": {
     "name": "#%%\n"
    }
   }
  },
  {
   "cell_type": "code",
   "execution_count": 84,
   "outputs": [
    {
     "name": "stdout",
     "output_type": "stream",
     "text": [
      "ground truth: 2 / Pullover\n",
      "predcition: 2 / Pullover\n",
      "torch.Size([1, 1, 32, 32])\n",
      "attacked prediction: 6 / Shirt\n"
     ]
    },
    {
     "data": {
      "text/plain": "<Figure size 864x432 with 3 Axes>",
      "image/png": "[encoded data removed]"
     },
     "metadata": {
      "needs_background": "light"
     },
     "output_type": "display_data"
    }
   ],
   "source": [
    "test_batch, test_batch_label = next(iter(test_dataloader))\n",
    "\n",
    "item_id = 55 # 23, 55(rob), 34(rob)\n",
    "\n",
    "image = test_batch[item_id].unsqueeze(0)\n",
    "print(f\"ground truth: {test_batch_label[item_id]} / {classes[test_batch_label[item_id]]}\")\n",
    "\n",
    "fig, axs = plt.subplots(1,3, figsize=(12,6))\n",
    "axs= axs.flatten()\n",
    "\n",
    "axs[0].imshow(image.view(32,32), cmap='gray')\n",
    "\n",
    "x_in = image.clone().requires_grad_()\n",
    "model.zero_grad()\n",
    "pred = model(x_in)\n",
    "pred_index = pred.argmax()\n",
    "print(f\"predcition: {pred_index.item()} / {classes[pred_index.item()]}\")\n",
    "pred_max = pred[0, pred_index]\n",
    "# print(pred_max)\n",
    "pred_max.backward()\n",
    "\n",
    "\n",
    "saliency = x_in.grad.detach().abs()[0]\n",
    "# print(saliency.shape, saliency)\n",
    "saliency = saliency.reshape(32, 32)\n",
    "axs[1].imshow(saliency, cmap=\"hot\")\n",
    "\n",
    "model.zero_grad()\n",
    "pred = model(x_in)\n",
    "pred_attack = pred[0, 1]\n",
    "pred_attack.backward()\n",
    "# print(x_in.grad)\n",
    "x_attack = 0.1 *image + .1*(x_in.grad.detach()[0]) #nn.ReLU()\n",
    "\n",
    "axs[2].imshow(x_attack.view(32,32), cmap='gray')\n",
    "print(x_attack.shape)\n",
    "pred = model(x_attack)\n",
    "pred_index = pred.argmax()\n",
    "print(f'attacked prediction: {pred_index.item()} / {classes[pred_index.item()]}')\n",
    "\n",
    "plt.show()\n"
   ],
   "metadata": {
    "collapsed": false,
    "pycharm": {
     "name": "#%%\n"
    }
   }
  }
 ],
 "metadata": {
  "kernelspec": {
   "display_name": "Python 3",
   "language": "python",
   "name": "python3"
  },
  "language_info": {
   "codemirror_mode": {
    "name": "ipython",
    "version": 2
   },
   "file_extension": ".py",
   "mimetype": "text/x-python",
   "name": "python",
   "nbconvert_exporter": "python",
   "pygments_lexer": "ipython2",
   "version": "2.7.6"
  }
 },
 "nbformat": 4,
 "nbformat_minor": 0
}