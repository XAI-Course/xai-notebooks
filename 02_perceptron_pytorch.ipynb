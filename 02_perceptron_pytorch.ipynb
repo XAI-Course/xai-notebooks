{
 "cells": [
  {
   "cell_type": "code",
   "execution_count": 2,
   "metadata": {
    "collapsed": true
   },
   "outputs": [],
   "source": [
    "import numpy as np\n",
    "import torch\n",
    "from torch.utils.data import Dataset\n",
    "import matplotlib.pyplot as plt\n",
    "import os\n",
    "from utility.ffqd_mnist import FFQD_Dataset\n",
    "from torch.utils.data import DataLoader\n",
    "\n",
    "training_data = FFQD_Dataset('ffqd_mnist/', train=True)\n",
    "train_dataloader = DataLoader(training_data, batch_size=64)\n",
    "\n",
    "test_data = FFQD_Dataset('ffqd_mnist/')\n",
    "test_dataloader = DataLoader(test_data, batch_size=64)"
   ]
  },
  {
   "cell_type": "code",
   "execution_count": 3,
   "outputs": [],
   "source": [
    "class Perceptron(torch.nn.Module):\n",
    "    def __init__(self, input_size = 784, output_size=10):\n",
    "        super(Perceptron, self).__init__()\n",
    "        self.fc = torch.nn.Linear(input_size,output_size)\n",
    "        self.relu = torch.nn.ReLU()\n",
    "\n",
    "    def forward(self, x):\n",
    "        y = self.fc(x)\n",
    "        y = self.relu(y)\n",
    "        return y"
   ],
   "metadata": {
    "collapsed": false,
    "pycharm": {
     "name": "#%%\n"
    }
   }
  },
  {
   "cell_type": "code",
   "execution_count": 4,
   "outputs": [],
   "source": [
    "model = Perceptron()\n",
    "optimizer = torch.optim.SGD(model.parameters(), lr=.01)\n",
    "# criterion = torch.nn.MSELoss()\n",
    "criterion = torch.nn.CrossEntropyLoss()\n",
    "device = 'cpu'\n",
    "\n",
    "def reset_model():\n",
    "    global model, optimizer\n",
    "    model = Perceptron()\n",
    "    optimizer = torch.optim.SGD(model.parameters(), lr=.01)\n"
   ],
   "metadata": {
    "collapsed": false,
    "pycharm": {
     "name": "#%%\n"
    }
   }
  },
  {
   "cell_type": "code",
   "execution_count": 5,
   "outputs": [],
   "source": [
    "def train_one_epoch(dataloader, model, loss_fn, optimizer):\n",
    "    model.train()\n",
    "    for batch_id, (X,y) in enumerate(dataloader):\n",
    "        X, y = X.to(device), y.to(device)\n",
    "\n",
    "        # calculate loss\n",
    "        y_pred = model(X)\n",
    "        # loss = loss_fn(y_pred.float(), y.float())\n",
    "        loss = loss_fn(y_pred, y)\n",
    "\n",
    "\n",
    "        # print( y_pred.dtype, y_pred.shape)\n",
    "        # print(loss)\n",
    "\n",
    "        # backprop loss\n",
    "        optimizer.zero_grad()\n",
    "        loss.backward()\n",
    "        optimizer.step()\n",
    "\n",
    "        if batch_id % 100 == 0:\n",
    "            print(f\"({batch_id}) loss: {loss:>7}\")\n"
   ],
   "metadata": {
    "collapsed": false,
    "pycharm": {
     "name": "#%%\n"
    }
   }
  },
  {
   "cell_type": "code",
   "execution_count": 6,
   "outputs": [],
   "source": [
    "def test_one_epoch(dataloader, model, loss_fn):\n",
    "    size = len(dataloader.dataset)\n",
    "    num_batches = len(dataloader)\n",
    "    model.eval()\n",
    "    test_loss, correct = 0, 0\n",
    "    with torch.no_grad():\n",
    "        for X,y in dataloader:\n",
    "            X, y = X.to(device), y.to(device)\n",
    "            pred_y = model(X)\n",
    "            test_loss += loss_fn(pred_y, y).item()\n",
    "            correct += (pred_y.argmax(1) == y.argmax(1)).type(torch.float).sum().item()\n",
    "    test_loss /= num_batches\n",
    "    correct /= size\n",
    "    return test_loss, correct\n"
   ],
   "metadata": {
    "collapsed": false,
    "pycharm": {
     "name": "#%%\n"
    }
   }
  },
  {
   "cell_type": "code",
   "execution_count": 7,
   "outputs": [
    {
     "name": "stdout",
     "output_type": "stream",
     "text": [
      "(0) loss: 2.2954271882772446\n",
      "(100) loss: 1.8175238110125065\n",
      "(200) loss: 1.6769997980445623\n",
      "(300) loss: 1.434285947587341\n",
      "(400) loss: 1.3969567292369902\n",
      "(500) loss: 1.4741743949707597\n",
      "(600) loss: 1.1604290748946369\n",
      "(700) loss: 1.176316688535735\n",
      "(800) loss: 1.079838422127068\n",
      "(1.1232389165066199, 0.6864181818181818)\n",
      "(0) loss: 1.1685230010189116\n",
      "(100) loss: 1.0906444853171706\n",
      "(200) loss: 1.0144397227559239\n",
      "(300) loss: 0.8089867323869839\n",
      "(400) loss: 0.9703737152740359\n",
      "(500) loss: 0.968867810734082\n",
      "(600) loss: 0.9341727383434772\n",
      "(700) loss: 0.7501991924073081\n",
      "(800) loss: 0.8148869012948126\n",
      "(0.8312357580721049, 0.7574181818181818)\n",
      "(0) loss: 0.9112061369232833\n",
      "(100) loss: 0.7516681090346538\n",
      "(200) loss: 0.852995196095435\n",
      "(300) loss: 0.6329431136837229\n",
      "(400) loss: 0.8801914459909312\n",
      "(500) loss: 0.8728132142568938\n",
      "(600) loss: 0.8678382358630188\n",
      "(700) loss: 0.6649345965415705\n",
      "(800) loss: 0.7557842504174914\n",
      "(0.7738039119115301, 0.7706363636363637)\n",
      "(0) loss: 0.8588355747633614\n",
      "(100) loss: 0.6785027864389122\n",
      "(200) loss: 0.8074872881697956\n",
      "(300) loss: 0.5686487414932344\n",
      "(400) loss: 0.8492543879256118\n",
      "(500) loss: 0.8282417404989246\n",
      "(600) loss: 0.8387798622716218\n",
      "(700) loss: 0.6246757933840854\n",
      "(800) loss: 0.7270439699350391\n",
      "(0.7440731797136048, 0.7791090909090909)\n",
      "(0) loss: 0.8334470895351842\n",
      "(100) loss: 0.6403282404353376\n",
      "(200) loss: 0.7829003506340086\n",
      "(300) loss: 0.5336047614109702\n",
      "(400) loss: 0.8331311536603607\n",
      "(500) loss: 0.79876311418775\n",
      "(600) loss: 0.8208600137731992\n",
      "(700) loss: 0.600593675946584\n",
      "(800) loss: 0.7099181234661955\n",
      "(0.724802346219766, 0.7843636363636364)\n"
     ]
    }
   ],
   "source": [
    "reset_model()\n",
    "# old_weights = torch.Tensor(np.array(model.get_parameter(\"fc.weight\").detach().numpy())) # copy old weights\n",
    "old_weights = model.get_parameter(\"fc.weight\").clone().detach()\n",
    "for i in range(5):\n",
    "    train_one_epoch(train_dataloader, model, criterion, optimizer)\n",
    "    print(test_one_epoch(test_dataloader, model, criterion))"
   ],
   "metadata": {
    "collapsed": false,
    "pycharm": {
     "name": "#%%\n"
    }
   }
  },
  {
   "cell_type": "code",
   "execution_count": 8,
   "outputs": [
    {
     "data": {
      "text/plain": "<Figure size 1440x1440 with 10 Axes>",
      "image/png": "[encoded data removed]"
     },
     "metadata": {
      "needs_background": "light"
     },
     "output_type": "display_data"
    }
   ],
   "source": [
    "f, axs = plt.subplots(1,10,figsize=(20,20))\n",
    "axs = axs.flatten()\n",
    "for i, w in enumerate(old_weights):\n",
    "    axs[i].imshow(w.view(28,28), cmap=\"gray\")"
   ],
   "metadata": {
    "collapsed": false,
    "pycharm": {
     "name": "#%%\n"
    }
   }
  },
  {
   "cell_type": "code",
   "execution_count": 9,
   "outputs": [
    {
     "name": "stdout",
     "output_type": "stream",
     "text": [
      "fc.weight tensor([[-0.0167, -0.0024, -0.0303,  ..., -0.0077,  0.0230,  0.0214],\n",
      "        [-0.0047,  0.0175, -0.0113,  ..., -0.0138,  0.0002, -0.0149],\n",
      "        [-0.0281, -0.0048, -0.0257,  ...,  0.0073, -0.0153, -0.0090],\n",
      "        ...,\n",
      "        [ 0.0208,  0.0349,  0.0140,  ...,  0.0355, -0.0236,  0.0120],\n",
      "        [-0.0213, -0.0092, -0.0240,  ...,  0.0049, -0.0247,  0.0181],\n",
      "        [-0.0058,  0.0184, -0.0101,  ..., -0.0260, -0.0120,  0.0258]]) torch.Size([10, 784])\n",
      "fc.bias tensor([ 0.0030,  0.1504,  0.2064, -0.1746, -0.1345, -0.3638,  0.2096,  0.3836,\n",
      "         0.6446, -0.2258]) torch.Size([10])\n"
     ]
    }
   ],
   "source": [
    "for name, par in model.named_parameters():\n",
    "    print(name, par.data, par.data.shape)"
   ],
   "metadata": {
    "collapsed": false,
    "pycharm": {
     "name": "#%%\n"
    }
   }
  },
  {
   "cell_type": "code",
   "execution_count": 10,
   "outputs": [],
   "source": [
    "weights = model.get_parameter(\"fc.weight\").detach()"
   ],
   "metadata": {
    "collapsed": false,
    "pycharm": {
     "name": "#%%\n"
    }
   }
  },
  {
   "cell_type": "code",
   "execution_count": 11,
   "outputs": [
    {
     "data": {
      "text/plain": "<Figure size 1440x1440 with 10 Axes>",
      "image/png": "[encoded data removed]"
     },
     "metadata": {
      "needs_background": "light"
     },
     "output_type": "display_data"
    }
   ],
   "source": [
    "f, axs = plt.subplots(1,10,figsize=(20,20))\n",
    "axs = axs.flatten()\n",
    "for i, w in enumerate((weights-old_weights).clip(min=0)):\n",
    "    pcm = axs[i].imshow(w.view(28,28), cmap=\"gray_r\")\n",
    "    # f.colorbar(pcm, ax=axs[i])\n",
    "    # plt.clim(0,1)\n"
   ],
   "metadata": {
    "collapsed": false,
    "pycharm": {
     "name": "#%%\n"
    }
   }
  },
  {
   "cell_type": "code",
   "execution_count": null,
   "outputs": [],
   "source": [],
   "metadata": {
    "collapsed": false,
    "pycharm": {
     "name": "#%%\n"
    }
   }
  }
 ],
 "metadata": {
  "kernelspec": {
   "display_name": "Python 3",
   "language": "python",
   "name": "python3"
  },
  "language_info": {
   "codemirror_mode": {
    "name": "ipython",
    "version": 2
   },
   "file_extension": ".py",
   "mimetype": "text/x-python",
   "name": "python",
   "nbconvert_exporter": "python",
   "pygments_lexer": "ipython2",
   "version": "2.7.6"
  }
 },
 "nbformat": 4,
 "nbformat_minor": 0
}